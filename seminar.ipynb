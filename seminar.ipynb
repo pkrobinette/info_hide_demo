{
 "cells": [
  {
   "cell_type": "markdown",
   "id": "b05f180d-8fa2-485b-b56e-93c11ff556bb",
   "metadata": {},
   "source": [
    "# AI Seminar: Information Hiding\n",
    "> Author: `Preston Robinette`\n",
    "\n",
    "> Last Update: `09/20/2024`"
   ]
  },
  {
   "cell_type": "markdown",
   "id": "63395c88-bca8-4d0d-b25a-f8611116dc79",
   "metadata": {},
   "source": [
    "## 1) What is information hiding?\n",
    "- `Steganography` and `watermarking` are key techniques in `information hiding`.\n",
    "- `Information Hiding` = Embedding information in physical or digital media so as not to be perceived by unauthorized individuals, while still maintaining the accessibility of the information for those who know how to extract or interpret it.\n",
    "\n",
    "- Physical forms:\n",
    "  > Invisible Ink: Writing with substances that become visible only under certain conditions, such as heat or UV light.\n",
    "  \n",
    "  > Microdots: Tiny dots that contain large amounts of data or images, small enough to be placed on letters, photographs, or documents without being easily noticed.\n",
    "  \n",
    "  > Hidden Text in Drawings: Information concealed within detailed drawings, such as slight alterations to artwork, that are unnoticeable to the casual observer.\n",
    "  \n",
    "  > Knitting Patterns or Quilts: Encoding messages through the use of specific stitches or patterns in hand-knitted items or quilts.\n",
    "  \n",
    "  > Wax Seals: Messages hidden beneath or within wax seals on letters or documents.\n",
    "  \n",
    "  > Semagrams: Messages hidden within physical objects or symbols, such as using the placement of objects or the number of items in an arrangement to encode a message.\n",
    "\n",
    "- Digital forms:\n",
    "  > Audio\n",
    "  \n",
    "  > Images\n",
    "  \n",
    "  > Text\n",
    "  \n",
    "  > Videos\n",
    "      \n",
    "- Difference in purpose: `steganography = communication` and `watermarking = authentication, ownership`\n",
    "\n",
    "- Considerations:\n",
    "  \n",
    "  ![Info Hiding Considerations](./src/watermark_triangle.png)\n",
    "\n",
    "> `capacity:` The amount of information that can be hidden.\n",
    "\n",
    "> `imperceptibility:` How 'secret' the information actually is.\n",
    "\n",
    "> `robustness:`How robust the information is to perturbations of the container.\n",
    "\n",
    "\n",
    "`Let's see how good you are at detecting steganography/watermarking?`\n",
    "---\n",
    "---\n",
    "## 2) Notation\n",
    "![Diagram](./src/general_model.png)\n",
    "\n",
    "![Steg](./src/steg_demo.png)\n"
   ]
  },
  {
   "cell_type": "markdown",
   "id": "32778b89-5ddb-4624-a1d8-637b8dd1096b",
   "metadata": {},
   "source": [
    "## 3) Traditional vs. Deep Learning Methods\n",
    "\n",
    "<img src=\"src/traditional_vs_deep.png\" alt=\"drawing\" width=\"500\"/>\n",
    "\n",
    "`Traditional Methods`:\n",
    "> **LSB (Least Significant Bit)**: Modifying the least significant bits of image/audio data.\n",
    "\n",
    "> **DCT (Discrete Cosine Transform)**: Embedding information into frequency components of images, often used in JPEGs.\n",
    "\n",
    "> **Spread Spectrum Steganography**: Distributing the secret message across a wide frequency bandwidth.\n",
    "\n",
    "> **Echo Hiding**: Hiding data within echo patterns in audio files.\n",
    "\n",
    "> **Pixel Value Differencing (PVD)**: Embedding data based on differences between pixel pairs.\n",
    "\n",
    "> **DCT-based Watermarking**: Embedding watermarks in the DCT coefficients of an image, used in JPEG compression.\n",
    "\n",
    "> **DWT (Discrete Wavelet Transform)**: Watermarking within wavelet coefficients of images or audio."
   ]
  },
  {
   "cell_type": "markdown",
   "id": "4eca8835-8c07-42f3-b531-334c692995f8",
   "metadata": {},
   "source": [
    "---\n",
    "## 4) Least Significant Bit Method (LSB)\n",
    "### Understanding Binary and Bits\n",
    "At the heart of all digital systems is binary, a number system composed of only two values: 0 and 1. In binary, these two values form the basis for representing all kinds of data, from numbers to text, audio, and images. Each binary value is called a bit, which is short for binary digit.\n",
    "\n",
    "In practice, a group of 8 bits is known as a byte. A byte can represent values from 0 (00000000 in binary) to 255 (11111111 in binary). This range is crucial for digital images since colors and shades in images are often represented using bytes.\n",
    "\n",
    "### How Binary Represents Images\n",
    "Most digital images are made up of tiny units called pixels. Each pixel stores color information, and in many image formats, the color of each pixel is represented by three bytes—one for red, one for green, and one for blue, often referred to as RGB. This means each color channel can hold 256 distinct values (0 to 255).\n",
    "\n",
    "For example, a pixel’s RGB values might look like this in binary:\n",
    "\n",
    "Red: 11001010 (202 in decimal)\n",
    "Green: 10101100 (172 in decimal)\n",
    "Blue: 11100010 (226 in decimal)\n",
    "Thus, the combination of these three values gives the specific color of a pixel.\n",
    "\n",
    "### Most Significant Bit (MSB) vs. Least Significant Bit (LSB)\n",
    "In any byte, the most significant bit (MSB) is the bit that holds the greatest weight—this is the leftmost bit. Changing the MSB has a large effect on the overall value of the byte. For example, flipping the MSB in the binary number 10000000 (128 in decimal) to 00000000 would turn the value from 128 to 0.\n",
    "\n",
    "On the other hand, the least significant bit (LSB) is the bit that holds the smallest weight—the rightmost bit. Changing the LSB of a byte only slightly alters the value. For example, flipping the LSB in 10000001 (129 in decimal) to 10000000 (128 in decimal) changes the value by just 1.\n",
    "\n",
    "### Least Significant Bit (LSB) in Steganography\n",
    "The LSB method of steganography takes advantage of the small impact that altering the least significant bits has on image data. Since changing the LSB of a pixel’s color value results in a very subtle change that is often imperceptible to the human eye, we can use this method to hide secret information within the image.\n",
    "\n",
    "For instance, consider the pixel value for the blue channel mentioned earlier: 11100010. By replacing the LSB with a bit from the secret message (let’s say 0), the new value would become 11100010 → 11100000. The difference between 226 and 224 (only a value of 2) is so minor that the visual change in the image would be negligible.\n",
    "\n",
    "This process is repeated for many pixels, embedding the secret data bit by bit across the image.\n",
    "\n",
    "### Summary\n",
    "- Binary is a system using 0s and 1s to represent data.\n",
    "- Bits form the basis of binary, and a group of 8 bits forms a byte.\n",
    "- Digital images are made of pixels, each with color values stored in bytes (often using the RGB model).\n",
    "- The Most Significant Bit (MSB) holds the most weight in a byte, while the Least Significant Bit (LSB) holds the least.\n",
    "- In LSB steganography, we alter the least significant bits of an image’s pixel data to embed secret information, making the changes visually undetectable.\n",
    "\n",
    "## `Competition Time!!`\n",
    "---\n",
    "\n",
    "## 5) LSB DEMO: Text-into-image\n",
    "\n",
    "Setup"
   ]
  },
  {
   "cell_type": "code",
   "execution_count": null,
   "id": "9e900733-2058-4c91-b550-49370dac1895",
   "metadata": {},
   "outputs": [],
   "source": [
    "!pip install matplotlib numpy Pillow torch torchvision tqdm -q"
   ]
  },
  {
   "cell_type": "code",
   "execution_count": null,
   "id": "ce8b014c-c291-4512-932f-912604b3213c",
   "metadata": {},
   "outputs": [],
   "source": [
    "# imports\n",
    "from PIL import Image\n",
    "import utils.StegoPy as steg\n",
    "import matplotlib.pyplot as plt"
   ]
  },
  {
   "cell_type": "markdown",
   "id": "16a56b85-9c15-4c39-b289-f9875f19ac40",
   "metadata": {},
   "source": [
    "**STEP 1:** Load the `cover` image."
   ]
  },
  {
   "cell_type": "code",
   "execution_count": null,
   "id": "2fa0c271-9ef4-4159-8c93-3757b68ba8c9",
   "metadata": {},
   "outputs": [],
   "source": [
    "cover = Image.open(\"images/jabba.png\").convert('RGB')\n",
    "\n",
    "# view the image\n",
    "plt.imshow(img);"
   ]
  },
  {
   "cell_type": "markdown",
   "id": "581be468-45fc-4e6d-bb7c-322c0a71468d",
   "metadata": {},
   "source": [
    "**STEP 2:** Create the `secret`."
   ]
  },
  {
   "cell_type": "code",
   "execution_count": null,
   "id": "fe519c3b-57fa-4155-9657-273b73fd613f",
   "metadata": {},
   "outputs": [],
   "source": [
    "secret_msg = \"This is a top secret message. Shhhhh\""
   ]
  },
  {
   "cell_type": "markdown",
   "id": "30d89959-5cc4-4c5b-87de-fcde29277b53",
   "metadata": {},
   "source": [
    "**STEP 3:** Create the `container` = H(cover, secret)."
   ]
  },
  {
   "cell_type": "code",
   "execution_count": null,
   "id": "26253e42-85fa-4bb9-a167-37183f37bf76",
   "metadata": {},
   "outputs": [],
   "source": [
    "container = steg.encode_msg(img, secret_msg)\n",
    "# compare cover vs. container\n",
    "fig, ax = plt.subplots(1, 2)\n",
    "ax[0].imshow(cover);\n",
    "ax[0].set_title(\"Cover\");\n",
    "ax[1].imshow(container);\n",
    "ax[1].set_title(\"Container\");"
   ]
  },
  {
   "cell_type": "markdown",
   "id": "ef245294-4b3f-4016-8bce-1f4e8d30afe3",
   "metadata": {},
   "source": [
    "**STEP 4:** `Recover` the hidden secret."
   ]
  },
  {
   "cell_type": "code",
   "execution_count": null,
   "id": "dd97548c-f0c3-412d-af39-bcded50400ea",
   "metadata": {},
   "outputs": [],
   "source": [
    "recovered_secret = steg.decode_msg(container)\n",
    "# view\n",
    "print(f\"Original Secret: {secret_msg}\")\n",
    "print(f\"Recovered Secret: {recovered_secret}\")"
   ]
  },
  {
   "cell_type": "markdown",
   "id": "5137b73c-a259-4a49-9892-b059d97442fe",
   "metadata": {},
   "source": [
    "## Image-into-image"
   ]
  },
  {
   "cell_type": "code",
   "execution_count": null,
   "id": "fdf3bc81-46e2-4995-818a-d1eef680d908",
   "metadata": {},
   "outputs": [],
   "source": [
    "# imports\n",
    "from PIL import Image\n",
    "import utils.StegoPy as steg\n",
    "import matplotlib.pyplot as plt"
   ]
  },
  {
   "cell_type": "markdown",
   "id": "263e7a7c-0201-442a-a8e9-aa969ff6aba5",
   "metadata": {},
   "source": [
    "**STEP 1:** Load the `cover` image."
   ]
  },
  {
   "cell_type": "code",
   "execution_count": null,
   "id": "af626c63-4ad4-42b6-aec4-0f84eeb5c3d2",
   "metadata": {},
   "outputs": [],
   "source": [
    "cover = Image.open(\"images/shark_cat.png\").convert('RGB')"
   ]
  },
  {
   "cell_type": "markdown",
   "id": "4c30bc2a-e424-4256-89b2-eeb60e70803a",
   "metadata": {},
   "source": [
    "**STEP 2:** Load the `secret` image."
   ]
  },
  {
   "cell_type": "code",
   "execution_count": null,
   "id": "19c21331-f40a-4d8a-92ea-f38f54f78e5d",
   "metadata": {},
   "outputs": [],
   "source": [
    "secret = Image.open('images/gollum.png').convert('RGB')"
   ]
  },
  {
   "cell_type": "markdown",
   "id": "8ed3eca3-1e0b-4435-8161-e99fbec4f889",
   "metadata": {},
   "source": [
    "**STEP 3:** Create the `container` = H(cover, secret)"
   ]
  },
  {
   "cell_type": "code",
   "execution_count": null,
   "id": "5c5a2d7f-aaf5-4e28-9bcf-7cf4f2025f25",
   "metadata": {},
   "outputs": [],
   "source": [
    "container = steg.encode_img(cover, secret)\n",
    "\n",
    "# compare cover vs. container\n",
    "fig, ax = plt.subplots(1, 2)\n",
    "ax[0].imshow(cover);\n",
    "ax[0].set_title(\"Cover\");\n",
    "ax[1].imshow(container);\n",
    "ax[1].set_title(\"Container\");"
   ]
  },
  {
   "cell_type": "markdown",
   "id": "a8d19328-42a5-41a8-879f-18835ab6e558",
   "metadata": {},
   "source": [
    "**STEP 4:** `Recover` the secret."
   ]
  },
  {
   "cell_type": "code",
   "execution_count": null,
   "id": "12d59dc1-3d51-4a0c-a751-4aef6860f7eb",
   "metadata": {},
   "outputs": [],
   "source": [
    "recovered_secret = steg.decode_img(container)\n",
    "\n",
    "# secret, recovered secret\n",
    "fig, ax = plt.subplots(1, 2)\n",
    "ax[0].imshow(secret);\n",
    "ax[0].set_title(\"Secret\");\n",
    "ax[1].imshow(recovered_secret);\n",
    "ax[1].set_title(\"Recovered Secret\");"
   ]
  },
  {
   "cell_type": "markdown",
   "id": "8b1a571a-b629-482d-b1b7-f62f4f0e9be6",
   "metadata": {},
   "source": [
    "## 6) Deep Learning Method\n",
    "\n",
    "[Hiding Images in Plain Sight, Baluja (2017)](https://papers.nips.cc/paper_files/paper/2017/hash/838e8afb1ca34354ac209f53d90c3a43-Abstract.html)\n",
    "\n",
    "<img src=\"src/hide_in_plain_sight.png\" alt=\"drawing\" width=\"700\"/>"
   ]
  },
  {
   "cell_type": "code",
   "execution_count": null,
   "id": "47f48a3f-6202-48b3-b9fc-0de00b694721",
   "metadata": {},
   "outputs": [],
   "source": [
    "# imports\n",
    "import torch\n",
    "import torch.nn as nn\n",
    "import torch.optim as optim\n",
    "from torch.utils.data import DataLoader\n",
    "from torchvision import datasets, transforms\n",
    "import tqdm\n",
    "import utils.models as models\n",
    "import matplotlib.pyplot as plt"
   ]
  },
  {
   "cell_type": "code",
   "execution_count": null,
   "id": "0c36cbe6-3bd9-4db7-8ac5-61c59a85658c",
   "metadata": {},
   "outputs": [],
   "source": [
    "def combined_loss(container, cover, revealed_secret, secret):\n",
    "    \"\"\"Combined loss for training.\n",
    "\n",
    "    Args:\n",
    "        container: H(cover, secret), should resemble the cover\n",
    "        cover: used to hide the secret\n",
    "        revealed_secret: secret revealed from the Reveal network\n",
    "        secret: the secret to be hidden\n",
    "    \"\"\"\n",
    "    mse_loss = nn.MSELoss()\n",
    "    loss_container = mse_loss(container, cover)\n",
    "    loss_revealed_secret = mse_loss(revealed_secret, secret)\n",
    "    return loss_container + loss_revealed_secret"
   ]
  },
  {
   "cell_type": "markdown",
   "id": "1a6a2acb-b3d2-45f7-8cd5-8b26968a861a",
   "metadata": {},
   "source": [
    "**STEP 1:** Load the data (MNIST)"
   ]
  },
  {
   "cell_type": "code",
   "execution_count": null,
   "id": "0e157747-062d-4fea-944b-e69f2c63fd3e",
   "metadata": {},
   "outputs": [],
   "source": [
    "# Load the MNIST dataset (both for cover and secret images)\n",
    "transform = transforms.Compose([transforms.ToTensor()])\n",
    "train_dataset = datasets.MNIST(root='./data', train=True, download=True, transform=transform)\n",
    "test_dataset = datasets.MNIST(root='./data', train=False, download=True, transform=transform)\n",
    "\n",
    "train_loader = DataLoader(train_dataset, batch_size=64, shuffle=True)\n",
    "test_loader = DataLoader(test_dataset, batch_size=64, shuffle=False)"
   ]
  },
  {
   "cell_type": "markdown",
   "id": "92c265dd-fc1b-488b-a26e-a94229e5cf9d",
   "metadata": {},
   "source": [
    "**STEP 2:** Train the Hide and Reveal Networks"
   ]
  },
  {
   "cell_type": "code",
   "execution_count": null,
   "id": "7a67aacf-5d8a-4433-ae00-faf155307f1e",
   "metadata": {
    "scrolled": true
   },
   "outputs": [],
   "source": [
    "#\n",
    "# initialize networks\n",
    "#\n",
    "hide_net = models.HideNetwork()\n",
    "reveal_net = models.RevealNetwork()\n",
    "\n",
    "device = torch.device('cuda' if torch.cuda.is_available() else 'cpu')\n",
    "hide_net.to(device)\n",
    "reveal_net.to(device)\n",
    "\n",
    "# training hide net and reveal net together\n",
    "optimizer = optim.Adam(list(hide_net.parameters()) + list(reveal_net.parameters()), lr=0.001)\n",
    "#\n",
    "# train\n",
    "#\n",
    "num_epochs = 1\n",
    "for epoch in range(num_epochs):\n",
    "    hide_net.train()\n",
    "    reveal_net.train()\n",
    "    total_loss = 0.0\n",
    "\n",
    "    for batch_idx, (cover, _) in enumerate(tqdm.tqdm(train_loader)):\n",
    "        # for simplicity, use same images as the secrets --> just shuffle\n",
    "        secret = cover[torch.randperm(cover.size(0))]\n",
    "        \n",
    "        cover = cover.to(device)\n",
    "        secret = secret.to(device)\n",
    "        #\n",
    "        # Create containers\n",
    "        #\n",
    "        container = hide_net(cover, secret)\n",
    "        #\n",
    "        # Reveal secrets from containers\n",
    "        # \n",
    "        revealed_secret = reveal_net(container)\n",
    "        #\n",
    "        # calculate the loss\n",
    "        #\n",
    "        loss = combined_loss(container, cover, revealed_secret, secret)\n",
    "        #\n",
    "        # backpropagation and optimization\n",
    "        #\n",
    "        optimizer.zero_grad()\n",
    "        loss.backward()\n",
    "        optimizer.step()\n",
    "\n",
    "        total_loss += loss.item()\n",
    "\n",
    "    print(f'Epoch [{epoch+1}/{num_epochs}], Loss: {total_loss / len(train_loader):.4f}')\n"
   ]
  },
  {
   "cell_type": "markdown",
   "id": "d61ebeb7-dc33-44a3-aa27-11a40b3eebc5",
   "metadata": {},
   "source": [
    "**STEP 3:** Test"
   ]
  },
  {
   "cell_type": "code",
   "execution_count": null,
   "id": "a82eafe0-4788-4678-a879-41d8a86188cc",
   "metadata": {},
   "outputs": [],
   "source": [
    "# Testing loop (to verify model performance)\n",
    "hide_net.eval()\n",
    "reveal_net.eval()\n",
    "test_loss = 0.0\n",
    "\n",
    "with torch.no_grad():\n",
    "    for cover, _ in test_loader:\n",
    "        secret = cover[torch.randperm(cover.size(0))]\n",
    "\n",
    "        cover = cover.to(device)\n",
    "        secret = secret.to(device)\n",
    "\n",
    "        container = hide_net(cover, secret)\n",
    "        revealed_secret = reveal_net(container)\n",
    "\n",
    "        loss = combined_loss(container, cover, revealed_secret, secret)\n",
    "        test_loss += loss.item()\n",
    "\n",
    "print(f'Test Loss: {test_loss / len(test_loader):.4f}')"
   ]
  },
  {
   "cell_type": "markdown",
   "id": "3525dfc7-4b44-4ad6-902c-d5c038460b52",
   "metadata": {},
   "source": [
    "**STEP 4:** View"
   ]
  },
  {
   "cell_type": "code",
   "execution_count": null,
   "id": "d96a03cb-d5a8-4aec-9e78-cfa9d98ca7b1",
   "metadata": {},
   "outputs": [],
   "source": [
    "fig, ax = plt.subplots(6, 4)\n",
    "\n",
    "for i in range(6):\n",
    "    # cover\n",
    "    ax[i, 0].imshow(cover[i].permute(1, 2, 0), cmap='gray')\n",
    "    ax[i, 0].set_axis_off()\n",
    "    if i == 0:\n",
    "        ax[i, 0].set_title(\"Cover\")\n",
    "    # secret\n",
    "    ax[i, 1].imshow(secret[i].permute(1, 2, 0), cmap='gray')\n",
    "    ax[i, 1].set_axis_off()\n",
    "    if i == 0:\n",
    "        ax[i, 1].set_title(\"Secret\")\n",
    "    # container\n",
    "    ax[i, 2].imshow(container[i].permute(1, 2, 0), cmap='gray')\n",
    "    ax[i, 2].set_axis_off()\n",
    "    if i == 0:\n",
    "        ax[i, 2].set_title(\"Container\")\n",
    "    # Reveal Secret\n",
    "    ax[i, 3].imshow(revealed_secret[i].permute(1, 2, 0), cmap='gray')\n",
    "    ax[i, 3].set_axis_off()\n",
    "    if i == 0:\n",
    "        ax[i, 3].set_title(\"Reveal. Secret\")"
   ]
  },
  {
   "cell_type": "markdown",
   "id": "fde66dba-1087-45d5-9a1a-45029ac5665c",
   "metadata": {},
   "source": [
    "View covers and containers"
   ]
  },
  {
   "cell_type": "code",
   "execution_count": null,
   "id": "ef89daca-7d95-4b5a-bf68-e72404dff070",
   "metadata": {},
   "outputs": [],
   "source": [
    "fig, ax = plt.subplots(6, 2)\n",
    "\n",
    "for i in range(6):\n",
    "    # cover\n",
    "    ax[i, 0].imshow(cover[i].permute(1, 2, 0), cmap='gray')\n",
    "    ax[i, 0].set_axis_off()\n",
    "    if i == 0:\n",
    "        ax[i, 0].set_title(\"Cover\")\n",
    "    # container\n",
    "    ax[i, 1].imshow(container[i].permute(1, 2, 0), cmap='gray')\n",
    "    ax[i, 1].set_axis_off()\n",
    "    if i == 0:\n",
    "        ax[i, 1].set_title(\"Container\")"
   ]
  },
  {
   "cell_type": "markdown",
   "id": "d83c62fa-e0b2-4fd2-acc8-db6ff009ac8f",
   "metadata": {},
   "source": [
    "View secrets and revealed secrets"
   ]
  },
  {
   "cell_type": "code",
   "execution_count": null,
   "id": "be4e01d4-ef13-4969-8241-4d1dfc0eb40a",
   "metadata": {},
   "outputs": [],
   "source": [
    "fig, ax = plt.subplots(6, 2)\n",
    "\n",
    "for i in range(6):\n",
    "    # secret\n",
    "    ax[i, 0].imshow(secret[i].permute(1, 2, 0), cmap='gray')\n",
    "    ax[i, 0].set_axis_off()\n",
    "    if i == 0:\n",
    "        ax[i, 0].set_title(\"Secret\")\n",
    "    # Reveal Secret\n",
    "    ax[i, 1].imshow(revealed_secret[i].permute(1, 2, 0), cmap='gray')\n",
    "    ax[i, 1].set_axis_off()\n",
    "    if i == 0:\n",
    "        ax[i, 1].set_title(\"Reveal. Secret\")"
   ]
  },
  {
   "cell_type": "markdown",
   "id": "af6c112c-eed3-4864-bc83-afc59f7bb1e8",
   "metadata": {},
   "source": [
    "---\n",
    "## Questions?\n",
    "\n",
    "`Contact Info`: preston.k.robinette@vanderbilt.edu\n",
    "\n",
    "`Website`: https://pkrobinette.github.io/"
   ]
  }
 ],
 "metadata": {
  "kernelspec": {
   "display_name": "Python [conda env:infoHide]",
   "language": "python",
   "name": "conda-env-infoHide-py"
  },
  "language_info": {
   "codemirror_mode": {
    "name": "ipython",
    "version": 3
   },
   "file_extension": ".py",
   "mimetype": "text/x-python",
   "name": "python",
   "nbconvert_exporter": "python",
   "pygments_lexer": "ipython3",
   "version": "3.12.6"
  }
 },
 "nbformat": 4,
 "nbformat_minor": 5
}
